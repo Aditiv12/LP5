{
  "nbformat": 4,
  "nbformat_minor": 0,
  "metadata": {
    "colab": {
      "provenance": [],
      "gpuType": "T4"
    },
    "kernelspec": {
      "name": "python3",
      "display_name": "Python 3"
    },
    "language_info": {
      "name": "python"
    },
    "accelerator": "GPU"
  },
  "cells": [
    {
      "cell_type": "code",
      "execution_count": 11,
      "metadata": {
        "colab": {
          "base_uri": "https://localhost:8080/"
        },
        "id": "g8QJGZevcwPT",
        "outputId": "6ae1c96b-2ba6-4a7e-871f-af4094c0ec60"
      },
      "outputs": [
        {
          "output_type": "stream",
          "name": "stdout",
          "text": [
            "Overwriting HPC-4.cu\n"
          ]
        }
      ],
      "source": [
        "%%writefile HPC-4.cu\n",
        "  #include <stdio.h>\n",
        "  #include <stdlib.h>\n",
        "\n",
        "  __global__\n",
        "  void add(int* A, int* B, int* C, int size) {\n",
        "      int tid = blockIdx.x * blockDim.x + threadIdx.x;\n",
        "      if (tid < size) {\n",
        "          C[tid] = A[tid] + B[tid];\n",
        "      }\n",
        "  }\n",
        "\n",
        "  __global__\n",
        "  void multiply(int* A, int* B, int* C, int size) {\n",
        "      int row = blockIdx.y * blockDim.y + threadIdx.y;\n",
        "      int col = blockIdx.x * blockDim.x + threadIdx.x;\n",
        "      if (row < size && col < size) {\n",
        "          int sum = 0;\n",
        "          for (int i = 0; i < size; i++) {\n",
        "              sum += A[row * size + i] * B[i * size + col];\n",
        "          }\n",
        "          C[row * size + col] = sum;\n",
        "      }\n",
        "  }\n",
        "\n",
        "  void initializeVector(int* vector, int size) {\n",
        "      for (int i = 0; i < size; i++) {\n",
        "          vector[i] = rand() % 10;\n",
        "      }\n",
        "  }\n",
        "\n",
        "  void initializeMatrix(int* matrix, int size) {\n",
        "      for (int i = 0; i < size * size; i++) {\n",
        "          matrix[i] = rand() % 10;\n",
        "      }\n",
        "  }\n",
        "\n",
        "  void printVector(int* vector, int size) {\n",
        "      for (int i = 0; i < size; i++) {\n",
        "          printf(\"%d \", vector[i]);\n",
        "      }\n",
        "      printf(\"\\n\");\n",
        "  }\n",
        "\n",
        "  void printMatrix(int* matrix, int size) {\n",
        "      for (int row = 0; row < size; row++) {\n",
        "          for (int col = 0; col < size; col++) {\n",
        "              printf(\"%d \", matrix[row * size + col]);\n",
        "          }\n",
        "          printf(\"\\n\");\n",
        "      }\n",
        "      printf(\"\\n\");\n",
        "  }\n",
        "\n",
        "  int main() {\n",
        "      int N = 4;\n",
        "      int* A, * B, * C;\n",
        "      int vectorSize = N;\n",
        "      size_t vectorBytes = vectorSize * sizeof(int);\n",
        "      A = (int*)malloc(vectorBytes);\n",
        "      B = (int*)malloc(vectorBytes);\n",
        "      C = (int*)malloc(vectorBytes);\n",
        "      initializeVector(A, vectorSize);\n",
        "      initializeVector(B, vectorSize);\n",
        "\n",
        "      printf(\"Vector A: \");\n",
        "      printVector(A, N);\n",
        "      printf(\"Vector B: \");\n",
        "      printVector(B, N);\n",
        "\n",
        "      int* X, * Y, * Z;\n",
        "      cudaMalloc(&X, vectorBytes);\n",
        "      cudaMalloc(&Y, vectorBytes);\n",
        "      cudaMalloc(&Z, vectorBytes);\n",
        "      cudaMemcpy(X, A, vectorBytes, cudaMemcpyHostToDevice);\n",
        "      cudaMemcpy(Y, B, vectorBytes, cudaMemcpyHostToDevice);\n",
        "\n",
        "      int threadsPerBlockVec = 256;\n",
        "      int blocksPerGridVec = (N + threadsPerBlockVec - 1) / threadsPerBlockVec;\n",
        "      add<<<blocksPerGridVec, threadsPerBlockVec>>>(X, Y, Z, N);\n",
        "\n",
        "      // Check for errors after the kernel call\n",
        "      cudaError_t error = cudaGetLastError();\n",
        "      if (error != cudaSuccess) {\n",
        "          printf(\"CUDA error in addition kernel: %s\\n\", cudaGetErrorString(error));\n",
        "      }\n",
        "      cudaDeviceSynchronize();  // Ensure the kernel has finished executing\n",
        "      cudaMemcpy(C, Z, vectorBytes, cudaMemcpyDeviceToHost);\n",
        "\n",
        "      printf(\"Addition: \");\n",
        "      printVector(C, N);\n",
        "\n",
        "      free(A);\n",
        "      free(B);\n",
        "      free(C);\n",
        "      cudaFree(X);\n",
        "      cudaFree(Y);\n",
        "      cudaFree(Z);\n",
        "\n",
        "      // Matrix multiplication\n",
        "      int* D, * E, * F;\n",
        "      int matrixSize = N;\n",
        "      size_t matrixBytes = matrixSize * matrixSize * sizeof(int);\n",
        "      D = (int*)malloc(matrixBytes);\n",
        "      E = (int*)malloc(matrixBytes);\n",
        "      F = (int*)malloc(matrixBytes);\n",
        "      initializeMatrix(D, matrixSize);\n",
        "      initializeMatrix(E, matrixSize);\n",
        "\n",
        "      printf(\"\\nMatrix D: \\n\");\n",
        "      printMatrix(D, matrixSize);\n",
        "      printf(\"Matrix E: \\n\");\n",
        "      printMatrix(E, matrixSize);\n",
        "\n",
        "      int* M, * NMat, * O;\n",
        "      cudaMalloc(&M, matrixBytes);\n",
        "      cudaMalloc(&NMat, matrixBytes);\n",
        "      cudaMalloc(&O, matrixBytes);\n",
        "      cudaMemcpy(M, D, matrixBytes, cudaMemcpyHostToDevice);\n",
        "      cudaMemcpy(NMat, E, matrixBytes, cudaMemcpyHostToDevice);\n",
        "\n",
        "      // Use 16x16 thread blocks for better performance\n",
        "      int threadsPerBlockMat = 16;\n",
        "      dim3 threadsMat(threadsPerBlockMat, threadsPerBlockMat);\n",
        "      dim3 blocksMat((matrixSize + threadsPerBlockMat - 1) / threadsPerBlockMat, (matrixSize + threadsPerBlockMat - 1) / threadsPerBlockMat);\n",
        "\n",
        "      multiply<<<blocksMat, threadsMat>>>(M, NMat, O, matrixSize);\n",
        "\n",
        "      // Check for errors after the kernel call\n",
        "      error = cudaGetLastError();\n",
        "      if (error != cudaSuccess) {\n",
        "          printf(\"CUDA error in multiplication kernel: %s\\n\", cudaGetErrorString(error));\n",
        "      }\n",
        "      cudaDeviceSynchronize();  // Ensure the kernel has finished executing\n",
        "      cudaMemcpy(F, O, matrixBytes, cudaMemcpyDeviceToHost);\n",
        "\n",
        "      printf(\"Multiplication: \\n\");\n",
        "      printMatrix(F, matrixSize);\n",
        "\n",
        "      free(D);\n",
        "      free(E);\n",
        "      free(F);\n",
        "      cudaFree(M);\n",
        "      cudaFree(NMat);\n",
        "      cudaFree(O);\n",
        "\n",
        "      return 0;\n",
        "  }\n"
      ]
    },
    {
      "cell_type": "code",
      "source": [
        "!nvidia-smi"
      ],
      "metadata": {
        "colab": {
          "base_uri": "https://localhost:8080/"
        },
        "id": "tRtWw-b9c4yT",
        "outputId": "e19c3532-4f3b-42f6-c4ef-0e8bac157921"
      },
      "execution_count": 2,
      "outputs": [
        {
          "output_type": "stream",
          "name": "stdout",
          "text": [
            "Mon Apr 21 17:45:26 2025       \n",
            "+-----------------------------------------------------------------------------------------+\n",
            "| NVIDIA-SMI 550.54.15              Driver Version: 550.54.15      CUDA Version: 12.4     |\n",
            "|-----------------------------------------+------------------------+----------------------+\n",
            "| GPU  Name                 Persistence-M | Bus-Id          Disp.A | Volatile Uncorr. ECC |\n",
            "| Fan  Temp   Perf          Pwr:Usage/Cap |           Memory-Usage | GPU-Util  Compute M. |\n",
            "|                                         |                        |               MIG M. |\n",
            "|=========================================+========================+======================|\n",
            "|   0  Tesla T4                       Off |   00000000:00:04.0 Off |                    0 |\n",
            "| N/A   42C    P8             10W /   70W |       0MiB /  15360MiB |      0%      Default |\n",
            "|                                         |                        |                  N/A |\n",
            "+-----------------------------------------+------------------------+----------------------+\n",
            "                                                                                         \n",
            "+-----------------------------------------------------------------------------------------+\n",
            "| Processes:                                                                              |\n",
            "|  GPU   GI   CI        PID   Type   Process name                              GPU Memory |\n",
            "|        ID   ID                                                               Usage      |\n",
            "|=========================================================================================|\n",
            "|  No running processes found                                                             |\n",
            "+-----------------------------------------------------------------------------------------+\n"
          ]
        }
      ]
    },
    {
      "cell_type": "code",
      "source": [
        "from torch import cuda\n",
        "device = 'cuda' if cuda.is_available() else 'cpu'\n",
        "device"
      ],
      "metadata": {
        "colab": {
          "base_uri": "https://localhost:8080/",
          "height": 36
        },
        "id": "lyiOZRmIdHQy",
        "outputId": "0f74b558-442f-4774-d2fb-bfb377f7f10b"
      },
      "execution_count": 3,
      "outputs": [
        {
          "output_type": "execute_result",
          "data": {
            "text/plain": [
              "'cuda'"
            ],
            "application/vnd.google.colaboratory.intrinsic+json": {
              "type": "string"
            }
          },
          "metadata": {},
          "execution_count": 3
        }
      ]
    },
    {
      "cell_type": "code",
      "source": [
        " !rm -rf /usr/local/cuda\n",
        " !ln -s /usr/local/cuda-12.4 /usr/local/cuda"
      ],
      "metadata": {
        "id": "M0VMiXLFdbbs"
      },
      "execution_count": 12,
      "outputs": []
    },
    {
      "cell_type": "code",
      "source": [
        " !nvcc -arch=sm_75 HPC-4.cu -o HPC-4"
      ],
      "metadata": {
        "id": "Iy7_ap0ydIyi"
      },
      "execution_count": 13,
      "outputs": []
    },
    {
      "cell_type": "code",
      "source": [
        " import os\n",
        " print(os.geteuid() == 0)"
      ],
      "metadata": {
        "colab": {
          "base_uri": "https://localhost:8080/"
        },
        "id": "I_IStKLGdRVk",
        "outputId": "f8a7fc95-031a-4a8f-f431-e7181611b1ed"
      },
      "execution_count": 14,
      "outputs": [
        {
          "output_type": "stream",
          "name": "stdout",
          "text": [
            "True\n"
          ]
        }
      ]
    },
    {
      "cell_type": "code",
      "source": [
        "!find / -name \"nvcc\" 2>/dev/null"
      ],
      "metadata": {
        "colab": {
          "base_uri": "https://localhost:8080/"
        },
        "id": "RqIrKcJ5dWJj",
        "outputId": "1671816b-e4cf-4969-bffd-d665c610a009"
      },
      "execution_count": 15,
      "outputs": [
        {
          "output_type": "stream",
          "name": "stdout",
          "text": [
            "/usr/local/cuda-12.5/bin/nvcc\n"
          ]
        }
      ]
    },
    {
      "cell_type": "code",
      "source": [
        " !./HPC-4"
      ],
      "metadata": {
        "colab": {
          "base_uri": "https://localhost:8080/"
        },
        "id": "EtOiQSXYef4h",
        "outputId": "1fe41700-87a9-4267-ec9a-4d00c64269b2"
      },
      "execution_count": 16,
      "outputs": [
        {
          "output_type": "stream",
          "name": "stdout",
          "text": [
            "Vector A: 3 6 7 5 \n",
            "Vector B: 3 5 6 2 \n",
            "Addition: 6 11 13 7 \n",
            "\n",
            "Matrix D: \n",
            "9 1 2 7 \n",
            "0 9 3 6 \n",
            "0 6 2 6 \n",
            "1 8 7 9 \n",
            "\n",
            "Matrix E: \n",
            "2 0 2 3 \n",
            "7 5 9 2 \n",
            "2 8 9 7 \n",
            "3 6 1 2 \n",
            "\n",
            "Multiplication: \n",
            "50 63 52 57 \n",
            "87 105 114 51 \n",
            "64 82 78 38 \n",
            "99 150 146 86 \n",
            "\n"
          ]
        }
      ]
    },
    {
      "cell_type": "code",
      "source": [],
      "metadata": {
        "id": "2A_7bpfnejg7"
      },
      "execution_count": null,
      "outputs": []
    }
  ]
}